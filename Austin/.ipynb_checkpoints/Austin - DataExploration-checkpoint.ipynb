{
 "cells": [
  {
   "cell_type": "code",
   "execution_count": 4,
   "metadata": {},
   "outputs": [],
   "source": [
    "!pwd"
   ]
  },
  {
   "cell_type": "markdown",
   "metadata": {},
   "source": [
    "### Context:\n",
    "In this assignment I tried to address the following question:\n",
    "Can a quantitative model depict, and de-cypher gentrification and its drivers?\n",
    "\n",
    "While there was no sufficient available data for my desired area of investigation (Jerusalem)* , I reckoned that there will be rich dataset for this investigation for other cities, based on which some conclusions (but not all) could be generalized; especially so, if I were to tackle the question from different angels - looking at many correlated varuables, and perhaps even for two different cities.\n",
    "\n",
    "The lack of the perfect dataest for Jerusalem is perhaps not so surprising. As it was put by AUTHOR in Requiem for Large Scale Models: 'CITATION about lack of granular data'. While we are seeing an increase in relevant data all over the globe, yet this pitfall is still very real.\n",
    "\n",
    "### Exploratory Analysis:"
   ]
  },
  {
   "cell_type": "code",
   "execution_count": 5,
   "metadata": {},
   "outputs": [],
   "source": [
    "import pandas as pd\n",
    "\n",
    "HOUSING = './Data/2014_Housing_Market_Analysis_Data_by_Zip_Code.csv'\n",
    "GENTRIFICATION = './UrbanModelling-Segragation/Austin/Data/Displacement_and_Gentrification_Recommendation_Inventory.csv'\n",
    "SHOOTING = './UrbanModelling-Segragation/Austin/Data/gfa7-xe7p.csv'\n",
    "housingDF = pd.read_csv(HOUSING)\n",
    "housingDF.head()"
   ]
  },
  {
   "cell_type": "code",
   "execution_count": 6,
   "metadata": {},
   "outputs": [],
   "source": [
    "# extract the zip codes for external integration with maps:\n",
    "zipC = housingDF['Zip Code']\n",
    "# split the data into train and test:\n",
    "X_train, X_test, y_train, y_test = train_test_split(X, housingDF['Population below poverty level'], test_size=0.33, random_state=42)\n",
    "\n",
    "from sklearn.linear_model import LinearRegression as lm\n",
    "from sklearn.model_selection import train_test_split\n",
    "train, testtrain_test_split\n",
    "lm.fit(housingDF['Average monthly transportation cost'],housingDF['Population below poverty level'])"
   ]
  },
  {
   "cell_type": "code",
   "execution_count": null,
   "metadata": {},
   "outputs": [],
   "source": [
    "gentrificationDF = pd.read_csv(GENTRIFICATION)\n",
    "gentrificationDF.head()"
   ]
  },
  {
   "cell_type": "code",
   "execution_count": null,
   "metadata": {},
   "outputs": [],
   "source": [
    "shootingDF = pd.read_csv(SHOOTING)\n",
    "shootingDF.head()"
   ]
  },
  {
   "cell_type": "code",
   "execution_count": null,
   "metadata": {},
   "outputs": [],
   "source": [
    "lonLat = officersDF['location_1']\n",
    "lonLat"
   ]
  },
  {
   "cell_type": "code",
   "execution_count": null,
   "metadata": {},
   "outputs": [],
   "source": []
  },
  {
   "cell_type": "code",
   "execution_count": null,
   "metadata": {},
   "outputs": [],
   "source": []
  },
  {
   "cell_type": "markdown",
   "metadata": {},
   "source": [
    "### Modeling - Hypothesis and Analysis"
   ]
  },
  {
   "cell_type": "code",
   "execution_count": null,
   "metadata": {},
   "outputs": [],
   "source": []
  },
  {
   "cell_type": "code",
   "execution_count": null,
   "metadata": {},
   "outputs": [],
   "source": []
  },
  {
   "cell_type": "code",
   "execution_count": null,
   "metadata": {},
   "outputs": [],
   "source": []
  },
  {
   "cell_type": "code",
   "execution_count": null,
   "metadata": {},
   "outputs": [],
   "source": []
  },
  {
   "cell_type": "code",
   "execution_count": null,
   "metadata": {},
   "outputs": [],
   "source": []
  },
  {
   "cell_type": "markdown",
   "metadata": {},
   "source": [
    "### Modeling - Assumptions and Limitations"
   ]
  },
  {
   "cell_type": "code",
   "execution_count": null,
   "metadata": {},
   "outputs": [],
   "source": []
  },
  {
   "cell_type": "code",
   "execution_count": null,
   "metadata": {},
   "outputs": [],
   "source": [
    "HCs / LOs\n",
    "* model assunmptions something about the "
   ]
  },
  {
   "cell_type": "code",
   "execution_count": null,
   "metadata": {},
   "outputs": [],
   "source": []
  }
 ],
 "metadata": {
  "kernelspec": {
   "display_name": "Python 3",
   "language": "python",
   "name": "python3"
  },
  "language_info": {
   "codemirror_mode": {
    "name": "ipython",
    "version": 3
   },
   "file_extension": ".py",
   "mimetype": "text/x-python",
   "name": "python",
   "nbconvert_exporter": "python",
   "pygments_lexer": "ipython3",
   "version": "3.6.7"
  }
 },
 "nbformat": 4,
 "nbformat_minor": 2
}
