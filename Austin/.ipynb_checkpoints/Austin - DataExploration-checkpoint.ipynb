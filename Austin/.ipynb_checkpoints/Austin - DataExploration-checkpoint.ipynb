{
 "cells": [
  {
   "cell_type": "code",
   "execution_count": 1,
   "metadata": {},
   "outputs": [
    {
     "name": "stdout",
     "output_type": "stream",
     "text": [
      "/Users/a8407352/Desktop/urban/final/UrbanModelling-Segragation/Austin\r\n"
     ]
    }
   ],
   "source": [
    "!pwd"
   ]
  },
  {
   "cell_type": "markdown",
   "metadata": {},
   "source": [
    "### Context:\n",
    "In this assignment I tried to address the following question:\n",
    "What can we learn about gentrification in Austin, Texas based on public datasets?\n",
    "\n",
    "While there was no sufficient available data for my desired area of investigation (Jerusalem)* , I reckoned that there will be rich dataset for this investigation for other cities, based on which some conclusions (but not all) could be generalized. The lack of the perfect dataest for Jerusalem is perhaps not so surprising. As it was put by Douglass B. Lee Jr. in Requiem for Large Scale Models: <br>\n",
    " <br>\n",
    "_'Data constitute the window through which the model\n",
    "views a city. Strong theory can extract much from these\n",
    "data, but it cannot add new information. It is sometimes helpful to consider what a model ought to know\n",
    "in order to produce a given output, before asking for the output.'_ (1973).\n",
    "\n",
    "Some blind spots still remain valid even today, 2018. That said, with the exponential growth of data globaly we can assume that this trend will shrink eventually.\n",
    "\n",
    "In regards to visualization: I started this assignment by focusing on necessarily using D3.js. This was a mistake – often times a common mistake by datascientist is to fit a problem onto a specific tool, instead the exact opposite. Perhaps the first step after scoping and defining the problem should be deciding what we want to say, and what kind of graph we should pick based on that, regardless of a specific tool, as was put by Peter Aldhous (2016 http://paldhous.github.io/ucb/2016/dataviz/). After my first experience with D3.js, which generated very humble outcomes, I decided to be more strategic with my tools for this assignment and used a combination of python libraries (matplotlib), Plotly, and editing tools like sublime and VScode. I was not only able to create the figures brought in this notebook, but also create an interactive map exploring the dataset that entails shooting in Austin, combined with the dataset depicting changes in each zipcode! <br>\n",
    "Please see the map within the 'Assets' folder in the github repository for this project LINK."
   ]
  },
  {
   "cell_type": "markdown",
   "metadata": {},
   "source": [
    "### Exploratory Analysis:"
   ]
  },
  {
   "cell_type": "markdown",
   "metadata": {},
   "source": []
  },
  {
   "cell_type": "code",
   "execution_count": 18,
   "metadata": {},
   "outputs": [
    {
     "data": {
      "text/html": [
       "<div>\n",
       "<style scoped>\n",
       "    .dataframe tbody tr th:only-of-type {\n",
       "        vertical-align: middle;\n",
       "    }\n",
       "\n",
       "    .dataframe tbody tr th {\n",
       "        vertical-align: top;\n",
       "    }\n",
       "\n",
       "    .dataframe thead th {\n",
       "        text-align: right;\n",
       "    }\n",
       "</style>\n",
       "<table border=\"1\" class=\"dataframe\">\n",
       "  <thead>\n",
       "    <tr style=\"text-align: right;\">\n",
       "      <th></th>\n",
       "      <th>Zip Code</th>\n",
       "      <th>Population below poverty level</th>\n",
       "      <th>Median household income</th>\n",
       "      <th>Non-White, Non-Hispanic or Latino</th>\n",
       "      <th>Hispanic or Latino, of any race</th>\n",
       "      <th>Population with disability</th>\n",
       "      <th>Unemployment</th>\n",
       "      <th>Large households (5+ members)</th>\n",
       "      <th>Homes affordable to people earning less than $50,000</th>\n",
       "      <th>Rentals affordable to people earning less than $25,000</th>\n",
       "      <th>...</th>\n",
       "      <th>Rental units affordable to average teacher</th>\n",
       "      <th>Owner units affordable to average teacher</th>\n",
       "      <th>Rental units affordable to average tech worker</th>\n",
       "      <th>Owner units affordable to average tech worker</th>\n",
       "      <th>Change in percentage of population below poverty, 2000-2012</th>\n",
       "      <th>Change in median rent, 2000-2012</th>\n",
       "      <th>Change in median home value, 2000-2012</th>\n",
       "      <th>Percentage of homes within 1/4-mi of transit stop</th>\n",
       "      <th>Average monthly transportation cost</th>\n",
       "      <th>Percentage of housing and transportation costs that is transportation-related</th>\n",
       "    </tr>\n",
       "  </thead>\n",
       "  <tbody>\n",
       "    <tr>\n",
       "      <th>0</th>\n",
       "      <td>78726.0</td>\n",
       "      <td>9</td>\n",
       "      <td>66096</td>\n",
       "      <td>16</td>\n",
       "      <td>20</td>\n",
       "      <td>3</td>\n",
       "      <td>4</td>\n",
       "      <td>2</td>\n",
       "      <td>0.0</td>\n",
       "      <td>1</td>\n",
       "      <td>...</td>\n",
       "      <td>70</td>\n",
       "      <td>0.0</td>\n",
       "      <td>99</td>\n",
       "      <td>17.0</td>\n",
       "      <td>375</td>\n",
       "      <td>20</td>\n",
       "      <td>55</td>\n",
       "      <td>2</td>\n",
       "      <td>786</td>\n",
       "      <td>40</td>\n",
       "    </tr>\n",
       "    <tr>\n",
       "      <th>1</th>\n",
       "      <td>NaN</td>\n",
       "      <td>19</td>\n",
       "      <td>52431</td>\n",
       "      <td>16</td>\n",
       "      <td>35</td>\n",
       "      <td>8</td>\n",
       "      <td>7</td>\n",
       "      <td>8</td>\n",
       "      <td>24.0</td>\n",
       "      <td>10</td>\n",
       "      <td>...</td>\n",
       "      <td>74</td>\n",
       "      <td>22.0</td>\n",
       "      <td>98</td>\n",
       "      <td>58.0</td>\n",
       "      <td>65</td>\n",
       "      <td>31</td>\n",
       "      <td>74</td>\n",
       "      <td>29</td>\n",
       "      <td>668</td>\n",
       "      <td>38</td>\n",
       "    </tr>\n",
       "    <tr>\n",
       "      <th>2</th>\n",
       "      <td>78724.0</td>\n",
       "      <td>38</td>\n",
       "      <td>35711</td>\n",
       "      <td>29</td>\n",
       "      <td>63</td>\n",
       "      <td>8</td>\n",
       "      <td>8</td>\n",
       "      <td>28</td>\n",
       "      <td>85.0</td>\n",
       "      <td>16</td>\n",
       "      <td>...</td>\n",
       "      <td>78</td>\n",
       "      <td>84.0</td>\n",
       "      <td>100</td>\n",
       "      <td>96.0</td>\n",
       "      <td>208</td>\n",
       "      <td>37</td>\n",
       "      <td>46</td>\n",
       "      <td>21</td>\n",
       "      <td>786</td>\n",
       "      <td>40</td>\n",
       "    </tr>\n",
       "    <tr>\n",
       "      <th>3</th>\n",
       "      <td>78617.0</td>\n",
       "      <td>18</td>\n",
       "      <td>43957</td>\n",
       "      <td>12</td>\n",
       "      <td>67</td>\n",
       "      <td>10</td>\n",
       "      <td>15</td>\n",
       "      <td>23</td>\n",
       "      <td>NaN</td>\n",
       "      <td>11</td>\n",
       "      <td>...</td>\n",
       "      <td>63</td>\n",
       "      <td>NaN</td>\n",
       "      <td>99</td>\n",
       "      <td>NaN</td>\n",
       "      <td>101</td>\n",
       "      <td>74</td>\n",
       "      <td>21</td>\n",
       "      <td>16</td>\n",
       "      <td>865</td>\n",
       "      <td>42</td>\n",
       "    </tr>\n",
       "    <tr>\n",
       "      <th>4</th>\n",
       "      <td>78701.0</td>\n",
       "      <td>20</td>\n",
       "      <td>68152</td>\n",
       "      <td>16</td>\n",
       "      <td>14</td>\n",
       "      <td>10</td>\n",
       "      <td>9</td>\n",
       "      <td>0</td>\n",
       "      <td>7.0</td>\n",
       "      <td>7</td>\n",
       "      <td>...</td>\n",
       "      <td>29</td>\n",
       "      <td>7.0</td>\n",
       "      <td>90</td>\n",
       "      <td>30.0</td>\n",
       "      <td>12</td>\n",
       "      <td>115</td>\n",
       "      <td>59</td>\n",
       "      <td>97</td>\n",
       "      <td>433</td>\n",
       "      <td>23</td>\n",
       "    </tr>\n",
       "  </tbody>\n",
       "</table>\n",
       "<p>5 rows × 30 columns</p>\n",
       "</div>"
      ],
      "text/plain": [
       "   Zip Code  Population below poverty level  Median household income  \\\n",
       "0   78726.0                               9                    66096   \n",
       "1       NaN                              19                    52431   \n",
       "2   78724.0                              38                    35711   \n",
       "3   78617.0                              18                    43957   \n",
       "4   78701.0                              20                    68152   \n",
       "\n",
       "   Non-White, Non-Hispanic or Latino  Hispanic or Latino, of any race  \\\n",
       "0                                 16                               20   \n",
       "1                                 16                               35   \n",
       "2                                 29                               63   \n",
       "3                                 12                               67   \n",
       "4                                 16                               14   \n",
       "\n",
       "   Population with disability  Unemployment  Large households (5+ members)  \\\n",
       "0                           3             4                              2   \n",
       "1                           8             7                              8   \n",
       "2                           8             8                             28   \n",
       "3                          10            15                             23   \n",
       "4                          10             9                              0   \n",
       "\n",
       "   Homes affordable to people earning less than $50,000  \\\n",
       "0                                                0.0      \n",
       "1                                               24.0      \n",
       "2                                               85.0      \n",
       "3                                                NaN      \n",
       "4                                                7.0      \n",
       "\n",
       "   Rentals affordable to people earning less than $25,000  \\\n",
       "0                                                  1        \n",
       "1                                                 10        \n",
       "2                                                 16        \n",
       "3                                                 11        \n",
       "4                                                  7        \n",
       "\n",
       "                                       ...                                        \\\n",
       "0                                      ...                                         \n",
       "1                                      ...                                         \n",
       "2                                      ...                                         \n",
       "3                                      ...                                         \n",
       "4                                      ...                                         \n",
       "\n",
       "   Rental units affordable to average teacher  \\\n",
       "0                                          70   \n",
       "1                                          74   \n",
       "2                                          78   \n",
       "3                                          63   \n",
       "4                                          29   \n",
       "\n",
       "   Owner units affordable to average teacher  \\\n",
       "0                                        0.0   \n",
       "1                                       22.0   \n",
       "2                                       84.0   \n",
       "3                                        NaN   \n",
       "4                                        7.0   \n",
       "\n",
       "   Rental units affordable to average tech worker  \\\n",
       "0                                              99   \n",
       "1                                              98   \n",
       "2                                             100   \n",
       "3                                              99   \n",
       "4                                              90   \n",
       "\n",
       "   Owner units affordable to average tech worker  \\\n",
       "0                                           17.0   \n",
       "1                                           58.0   \n",
       "2                                           96.0   \n",
       "3                                            NaN   \n",
       "4                                           30.0   \n",
       "\n",
       "   Change in percentage of population below poverty, 2000-2012  \\\n",
       "0                                                375             \n",
       "1                                                 65             \n",
       "2                                                208             \n",
       "3                                                101             \n",
       "4                                                 12             \n",
       "\n",
       "   Change in median rent, 2000-2012  Change in median home value, 2000-2012  \\\n",
       "0                                20                                      55   \n",
       "1                                31                                      74   \n",
       "2                                37                                      46   \n",
       "3                                74                                      21   \n",
       "4                               115                                      59   \n",
       "\n",
       "   Percentage of homes within 1/4-mi of transit stop  \\\n",
       "0                                                  2   \n",
       "1                                                 29   \n",
       "2                                                 21   \n",
       "3                                                 16   \n",
       "4                                                 97   \n",
       "\n",
       "   Average monthly transportation cost  \\\n",
       "0                                  786   \n",
       "1                                  668   \n",
       "2                                  786   \n",
       "3                                  865   \n",
       "4                                  433   \n",
       "\n",
       "   Percentage of housing and transportation costs that is transportation-related  \n",
       "0                                                 40                              \n",
       "1                                                 38                              \n",
       "2                                                 40                              \n",
       "3                                                 42                              \n",
       "4                                                 23                              \n",
       "\n",
       "[5 rows x 30 columns]"
      ]
     },
     "execution_count": 18,
     "metadata": {},
     "output_type": "execute_result"
    }
   ],
   "source": [
    "import pandas as pd\n",
    "\n",
    "HOUSING = './Data/2014_Housing_Market_Analysis_Data_by_Zip_Code.csv'\n",
    "GENTRIFICATION = './Data/Displacement_and_Gentrification_Recommendation_Inventory.csv'\n",
    "SHOOTING = './Data/gfa7-xe7p.csv'\n",
    "housingDF = pd.read_csv(HOUSING)\n",
    "housingDF.head()"
   ]
  },
  {
   "cell_type": "code",
   "execution_count": 3,
   "metadata": {},
   "outputs": [],
   "source": [
    "# extract the zip codes for external integration with maps:\n",
    "zipC = housingDF['Zip Code']"
   ]
  },
  {
   "cell_type": "markdown",
   "metadata": {},
   "source": [
    "Let's take a look at Austin's Zipcodes:\n",
    "![zipcodes](./Assets/austinZips.png)"
   ]
  },
  {
   "cell_type": "markdown",
   "metadata": {},
   "source": [
    "(Taken from Pinterest: https://www.pinterest.com/pin/194006696425461630)"
   ]
  },
  {
   "cell_type": "code",
   "execution_count": 4,
   "metadata": {},
   "outputs": [],
   "source": [
    "# prepare the data - deal with missing values:\n",
    "# housingDF.isnull().sum()"
   ]
  },
  {
   "cell_type": "code",
   "execution_count": 5,
   "metadata": {},
   "outputs": [],
   "source": [
    "# We see that there are missing values for 6 fields.\n",
    "housingDF = housingDF.interpolate()\n",
    "\n",
    "# notice the decision regarding the missing values: there are several ways to deal with missing values.\n",
    "# Here I'm using the defualt linear method to interpolate the missing values.\n",
    "# another possible option would be the method 'nearest' which would fill in the nearest value.\n",
    "\n",
    "# housingDF.isnull().sum()"
   ]
  },
  {
   "cell_type": "code",
   "execution_count": null,
   "metadata": {},
   "outputs": [],
   "source": []
  },
  {
   "cell_type": "code",
   "execution_count": 6,
   "metadata": {},
   "outputs": [],
   "source": [
    "# split the data into train and test:\n",
    "from sklearn.model_selection import train_test_split\n",
    "X = housingDF.loc[:,'Change in median rent, 2000-2012']"
   ]
  },
  {
   "cell_type": "code",
   "execution_count": 7,
   "metadata": {},
   "outputs": [],
   "source": [
    "y = housingDF.loc[:,'Population below poverty level']"
   ]
  },
  {
   "cell_type": "code",
   "execution_count": 8,
   "metadata": {},
   "outputs": [],
   "source": [
    "X_train, X_test, y_train, y_test = train_test_split(X,y \n",
    ", test_size=0.33, random_state=42)"
   ]
  },
  {
   "cell_type": "code",
   "execution_count": 9,
   "metadata": {},
   "outputs": [],
   "source": [
    "import numpy as np\n",
    "X_train = np.array(X_train).reshape(-1,1)\n",
    "X_train\n",
    "X_test = np.array(X_test).reshape(-1,1)\n",
    "y_train = np.array(y_train).reshape(-1,1)\n",
    "y_train\n",
    "y_test = np.array(y_test).reshape(-1,1)"
   ]
  },
  {
   "cell_type": "code",
   "execution_count": 10,
   "metadata": {},
   "outputs": [],
   "source": [
    "# # old version:\n",
    "from sklearn.linear_model import LinearRegression as lm\n",
    "linearModel = lm()"
   ]
  },
  {
   "cell_type": "code",
   "execution_count": 11,
   "metadata": {},
   "outputs": [
    {
     "name": "stderr",
     "output_type": "stream",
     "text": [
      "/usr/local/miniconda3/lib/python3.6/site-packages/sklearn/linear_model/base.py:509: RuntimeWarning: internal gelsd driver lwork query error, required iwork dimension not returned. This is likely the result of LAPACK bug 0038, fixed in LAPACK 3.2.2 (released July 21, 2010). Falling back to 'gelss' driver.\n",
      "  linalg.lstsq(X, y)\n"
     ]
    }
   ],
   "source": [
    "fit = linearModel.fit(X_train,y_train)"
   ]
  },
  {
   "cell_type": "code",
   "execution_count": 12,
   "metadata": {},
   "outputs": [],
   "source": [
    "predictions = linearModel.predict(X_test)"
   ]
  },
  {
   "cell_type": "code",
   "execution_count": 13,
   "metadata": {},
   "outputs": [
    {
     "name": "stdout",
     "output_type": "stream",
     "text": [
      "Coefficients: \n",
      " [[0.08633106]]\n"
     ]
    }
   ],
   "source": [
    "# The coefficients:\n",
    "print('Coefficients: \\n', linearModel.coef_)\n",
    "\n",
    "from matplotlib.pyplot import plot as plt"
   ]
  },
  {
   "cell_type": "code",
   "execution_count": 14,
   "metadata": {},
   "outputs": [
    {
     "name": "stdout",
     "output_type": "stream",
     "text": [
      "Mean squared error: 228.97\n",
      "Variance score: 0.09\n"
     ]
    }
   ],
   "source": [
    "# The mean squared error\n",
    "from sklearn.metrics import mean_squared_error, r2_score\n",
    "print(\"Mean squared error: %.2f\"\n",
    "      % mean_squared_error(y_test, predictions))\n",
    "# Explained variance score: 1 is perfect predictions:\n",
    "print('Variance score: %.2f' % r2_score(y_test, predictions))"
   ]
  },
  {
   "cell_type": "code",
   "execution_count": 15,
   "metadata": {},
   "outputs": [],
   "source": [
    "# Plot outputs\n",
    "import matplotlib.pyplot as plt\n",
    "xLables = housingDF['Zip Code']"
   ]
  },
  {
   "cell_type": "code",
   "execution_count": 34,
   "metadata": {},
   "outputs": [
    {
     "data": {
      "text/plain": [
       "[<matplotlib.lines.Line2D at 0x1196fb080>]"
      ]
     },
     "execution_count": 34,
     "metadata": {},
     "output_type": "execute_result"
    },
    {
     "data": {
      "image/png": "[encoded data removed]",
      "text/plain": [
       "<Figure size 1584x720 with 1 Axes>"
      ]
     },
     "metadata": {
      "needs_background": "light"
     },
     "output_type": "display_data"
    }
   ],
   "source": [
    "plt.figure(figsize=(22,10))\n",
    "plt.xlabel('Change in median rent, 2000-2012',fontsize=20)\n",
    "plt.ylabel('Population below poverty level',fontsize=20)\n",
    "\n",
    "for idx, txt in (zip(xLables.index,xLables)):\n",
    "    text = plt.annotate(txt, (X[idx], y[idx]),rotation=25)\n",
    "    text = text.set_fontsize(14)\n",
    "    \n",
    "plt.scatter(X, y)\n",
    "from numpy.polynomial.polynomial import polyfit\n",
    "b, m = polyfit(X, y, 1)\n",
    "plt.legend(['Zipcodes postioned based on poverty and rent change'], \n",
    "           loc='upper left',\n",
    "          fontsize=15)\n",
    "plt.plot(X, b + m * X, '-')"
   ]
  },
  {
   "cell_type": "markdown",
   "metadata": {},
   "source": [
    "We observe based on both the model's metrics as well as the figure that the relationship between the change in rent and  the poor population is not well explained with the variables under consideration.\n",
    "That said, the figure is useful for outliers detection - for example, 78732, 78701 have experienced drastic rent changes, while there is relatively low number of population below poverty level - this might point at a reverse causation (not necessarily, but potentially) where the rent changes based on the popualtion and its ability to pay higher rent.\n",
    "\n",
    "Further, let's take a closer look on 78732, 78701 , as well as 78705 that seems like an outlier as well:"
   ]
  },
  {
   "cell_type": "markdown",
   "metadata": {},
   "source": [
    "![title](./Assets/austinInterestingZips.png)"
   ]
  },
  {
   "cell_type": "code",
   "execution_count": null,
   "metadata": {},
   "outputs": [],
   "source": []
  },
  {
   "cell_type": "code",
   "execution_count": null,
   "metadata": {},
   "outputs": [],
   "source": []
  },
  {
   "cell_type": "code",
   "execution_count": null,
   "metadata": {},
   "outputs": [],
   "source": [
    "mixed-used, mixed-income, walkable streets (Calthorpe, 2017 https://www.youtube.com/watch?v=IFjD3NMv6Kw) "
   ]
  },
  {
   "cell_type": "code",
   "execution_count": null,
   "metadata": {},
   "outputs": [],
   "source": []
  },
  {
   "cell_type": "code",
   "execution_count": null,
   "metadata": {},
   "outputs": [],
   "source": []
  },
  {
   "cell_type": "code",
   "execution_count": null,
   "metadata": {},
   "outputs": [],
   "source": []
  },
  {
   "cell_type": "code",
   "execution_count": 21,
   "metadata": {},
   "outputs": [
    {
     "data": {
      "text/html": [
       "<div>\n",
       "<style scoped>\n",
       "    .dataframe tbody tr th:only-of-type {\n",
       "        vertical-align: middle;\n",
       "    }\n",
       "\n",
       "    .dataframe tbody tr th {\n",
       "        vertical-align: top;\n",
       "    }\n",
       "\n",
       "    .dataframe thead th {\n",
       "        text-align: right;\n",
       "    }\n",
       "</style>\n",
       "<table border=\"1\" class=\"dataframe\">\n",
       "  <thead>\n",
       "    <tr style=\"text-align: right;\">\n",
       "      <th></th>\n",
       "      <th>:@computed_region_8spj_utxs</th>\n",
       "      <th>:@computed_region_a3it_2a2z</th>\n",
       "      <th>:@computed_region_q9nd_rr82</th>\n",
       "      <th>:@computed_region_qwte_z96m</th>\n",
       "      <th>call_type_categories</th>\n",
       "      <th>case</th>\n",
       "      <th>date</th>\n",
       "      <th>day_of_week</th>\n",
       "      <th>hits</th>\n",
       "      <th>less_lethal_force_used_by_apd_prior_to_shooting</th>\n",
       "      <th>location_1</th>\n",
       "      <th>location_1_address</th>\n",
       "      <th>location_1_city</th>\n",
       "      <th>location_1_state</th>\n",
       "      <th>location_1_zip</th>\n",
       "      <th>number_of_officer_shooters</th>\n",
       "      <th>officers_present_when_shots_fired</th>\n",
       "      <th>premise_category</th>\n",
       "      <th>subject_weapon</th>\n",
       "      <th>time</th>\n",
       "    </tr>\n",
       "  </thead>\n",
       "  <tbody>\n",
       "    <tr>\n",
       "      <th>0</th>\n",
       "      <td>NaN</td>\n",
       "      <td>NaN</td>\n",
       "      <td>NaN</td>\n",
       "      <td>NaN</td>\n",
       "      <td>suicidal subject</td>\n",
       "      <td>16-1660189\\n16-5024527</td>\n",
       "      <td>2016-06-14T00:00:00.000</td>\n",
       "      <td>Tue</td>\n",
       "      <td>1.0</td>\n",
       "      <td>No</td>\n",
       "      <td>NaN</td>\n",
       "      <td>6000 block Cougar Dr</td>\n",
       "      <td>NaN</td>\n",
       "      <td>NaN</td>\n",
       "      <td>NaN</td>\n",
       "      <td>1</td>\n",
       "      <td>21</td>\n",
       "      <td>Street</td>\n",
       "      <td>knife (machete)</td>\n",
       "      <td>6:00 AM</td>\n",
       "    </tr>\n",
       "    <tr>\n",
       "      <th>1</th>\n",
       "      <td>8.0</td>\n",
       "      <td>3252.0</td>\n",
       "      <td>2.0</td>\n",
       "      <td>3764.0</td>\n",
       "      <td>shots fired</td>\n",
       "      <td>15-0381788\\n15-5005471\\n15-5006662</td>\n",
       "      <td>2015-02-08T00:00:00.000</td>\n",
       "      <td>Sun</td>\n",
       "      <td>1.0</td>\n",
       "      <td>No</td>\n",
       "      <td>POINT (-97.888612 30.244609)</td>\n",
       "      <td>8206 Pax Dr</td>\n",
       "      <td>NaN</td>\n",
       "      <td>NaN</td>\n",
       "      <td>NaN</td>\n",
       "      <td>1</td>\n",
       "      <td>26</td>\n",
       "      <td>Yard/Courtyard</td>\n",
       "      <td>rifle</td>\n",
       "      <td>12:09 PM</td>\n",
       "    </tr>\n",
       "    <tr>\n",
       "      <th>2</th>\n",
       "      <td>NaN</td>\n",
       "      <td>7343.0</td>\n",
       "      <td>NaN</td>\n",
       "      <td>NaN</td>\n",
       "      <td>shots fired</td>\n",
       "      <td>14-3320160\\n14-5052475</td>\n",
       "      <td>2014-11-28T00:00:00.000</td>\n",
       "      <td>Fri</td>\n",
       "      <td>1.0</td>\n",
       "      <td>No</td>\n",
       "      <td>POINT (-114.299949 48.192789)</td>\n",
       "      <td>715 E 8th St</td>\n",
       "      <td>NaN</td>\n",
       "      <td>NaN</td>\n",
       "      <td>NaN</td>\n",
       "      <td>1</td>\n",
       "      <td>10</td>\n",
       "      <td>Street</td>\n",
       "      <td>rifle</td>\n",
       "      <td>2:22 AM</td>\n",
       "    </tr>\n",
       "    <tr>\n",
       "      <th>3</th>\n",
       "      <td>4.0</td>\n",
       "      <td>3646.0</td>\n",
       "      <td>9.0</td>\n",
       "      <td>3851.0</td>\n",
       "      <td>shots fired</td>\n",
       "      <td>13-5048070\\n13-5048073\\n13-2911294</td>\n",
       "      <td>2013-10-18T00:00:00.000</td>\n",
       "      <td>Fri</td>\n",
       "      <td>1.0</td>\n",
       "      <td>No</td>\n",
       "      <td>POINT (-97.704626 30.379773)</td>\n",
       "      <td>1609 Cripple Creek Dr</td>\n",
       "      <td>NaN</td>\n",
       "      <td>NaN</td>\n",
       "      <td>NaN</td>\n",
       "      <td>3</td>\n",
       "      <td>5</td>\n",
       "      <td>Yard/Courtyard</td>\n",
       "      <td>rifle</td>\n",
       "      <td>3:20 PM</td>\n",
       "    </tr>\n",
       "    <tr>\n",
       "      <th>4</th>\n",
       "      <td>5.0</td>\n",
       "      <td>3259.0</td>\n",
       "      <td>1.0</td>\n",
       "      <td>NaN</td>\n",
       "      <td>other - nature unknown</td>\n",
       "      <td>17-0531372\\n17-5015929\\n17-5007713</td>\n",
       "      <td>2017-02-22T00:00:00.000</td>\n",
       "      <td>Wed</td>\n",
       "      <td>2.0</td>\n",
       "      <td>no</td>\n",
       "      <td>POINT (-97.810196 30.1955)</td>\n",
       "      <td>7600 MANCHACA RD</td>\n",
       "      <td>NaN</td>\n",
       "      <td>NaN</td>\n",
       "      <td>NaN</td>\n",
       "      <td>1</td>\n",
       "      <td>1</td>\n",
       "      <td>wooded area</td>\n",
       "      <td>knife</td>\n",
       "      <td>6:16 PM</td>\n",
       "    </tr>\n",
       "  </tbody>\n",
       "</table>\n",
       "</div>"
      ],
      "text/plain": [
       "   :@computed_region_8spj_utxs  :@computed_region_a3it_2a2z  \\\n",
       "0                          NaN                          NaN   \n",
       "1                          8.0                       3252.0   \n",
       "2                          NaN                       7343.0   \n",
       "3                          4.0                       3646.0   \n",
       "4                          5.0                       3259.0   \n",
       "\n",
       "   :@computed_region_q9nd_rr82  :@computed_region_qwte_z96m  \\\n",
       "0                          NaN                          NaN   \n",
       "1                          2.0                       3764.0   \n",
       "2                          NaN                          NaN   \n",
       "3                          9.0                       3851.0   \n",
       "4                          1.0                          NaN   \n",
       "\n",
       "     call_type_categories                                case  \\\n",
       "0        suicidal subject              16-1660189\\n16-5024527   \n",
       "1             shots fired  15-0381788\\n15-5005471\\n15-5006662   \n",
       "2             shots fired              14-3320160\\n14-5052475   \n",
       "3             shots fired  13-5048070\\n13-5048073\\n13-2911294   \n",
       "4  other - nature unknown  17-0531372\\n17-5015929\\n17-5007713   \n",
       "\n",
       "                      date day_of_week  hits  \\\n",
       "0  2016-06-14T00:00:00.000         Tue   1.0   \n",
       "1  2015-02-08T00:00:00.000         Sun   1.0   \n",
       "2  2014-11-28T00:00:00.000         Fri   1.0   \n",
       "3  2013-10-18T00:00:00.000         Fri   1.0   \n",
       "4  2017-02-22T00:00:00.000         Wed   2.0   \n",
       "\n",
       "  less_lethal_force_used_by_apd_prior_to_shooting  \\\n",
       "0                                              No   \n",
       "1                                              No   \n",
       "2                                              No   \n",
       "3                                              No   \n",
       "4                                              no   \n",
       "\n",
       "                      location_1     location_1_address  location_1_city  \\\n",
       "0                            NaN   6000 block Cougar Dr              NaN   \n",
       "1   POINT (-97.888612 30.244609)            8206 Pax Dr              NaN   \n",
       "2  POINT (-114.299949 48.192789)           715 E 8th St              NaN   \n",
       "3   POINT (-97.704626 30.379773)  1609 Cripple Creek Dr              NaN   \n",
       "4     POINT (-97.810196 30.1955)       7600 MANCHACA RD              NaN   \n",
       "\n",
       "   location_1_state  location_1_zip  number_of_officer_shooters  \\\n",
       "0               NaN             NaN                           1   \n",
       "1               NaN             NaN                           1   \n",
       "2               NaN             NaN                           1   \n",
       "3               NaN             NaN                           3   \n",
       "4               NaN             NaN                           1   \n",
       "\n",
       "   officers_present_when_shots_fired premise_category   subject_weapon  \\\n",
       "0                                 21           Street  knife (machete)   \n",
       "1                                 26   Yard/Courtyard            rifle   \n",
       "2                                 10           Street            rifle   \n",
       "3                                  5   Yard/Courtyard            rifle   \n",
       "4                                  1      wooded area            knife   \n",
       "\n",
       "       time  \n",
       "0   6:00 AM  \n",
       "1  12:09 PM  \n",
       "2   2:22 AM  \n",
       "3   3:20 PM  \n",
       "4   6:16 PM  "
      ]
     },
     "execution_count": 21,
     "metadata": {},
     "output_type": "execute_result"
    }
   ],
   "source": [
    "shootingDF = pd.read_csv(SHOOTING)\n",
    "shootingDF.head()"
   ]
  },
  {
   "cell_type": "code",
   "execution_count": 37,
   "metadata": {},
   "outputs": [
    {
     "data": {
      "text/html": [
       "<div>\n",
       "<style scoped>\n",
       "    .dataframe tbody tr th:only-of-type {\n",
       "        vertical-align: middle;\n",
       "    }\n",
       "\n",
       "    .dataframe tbody tr th {\n",
       "        vertical-align: top;\n",
       "    }\n",
       "\n",
       "    .dataframe thead th {\n",
       "        text-align: right;\n",
       "    }\n",
       "</style>\n",
       "<table border=\"1\" class=\"dataframe\">\n",
       "  <thead>\n",
       "    <tr style=\"text-align: right;\">\n",
       "      <th></th>\n",
       "      <th>location_1</th>\n",
       "      <th>time</th>\n",
       "    </tr>\n",
       "  </thead>\n",
       "  <tbody>\n",
       "    <tr>\n",
       "      <th>0</th>\n",
       "      <td>NaN</td>\n",
       "      <td>6:00 AM</td>\n",
       "    </tr>\n",
       "    <tr>\n",
       "      <th>2</th>\n",
       "      <td>POINT (-114.299949 48.192789)</td>\n",
       "      <td>2:22 AM</td>\n",
       "    </tr>\n",
       "    <tr>\n",
       "      <th>7</th>\n",
       "      <td>POINT (-80.089825 26.489341)</td>\n",
       "      <td>4:50 PM</td>\n",
       "    </tr>\n",
       "    <tr>\n",
       "      <th>8</th>\n",
       "      <td>POINT (-91.944226 38.848634)</td>\n",
       "      <td>2:10 AM</td>\n",
       "    </tr>\n",
       "    <tr>\n",
       "      <th>9</th>\n",
       "      <td>POINT (-85.348554 40.178357)</td>\n",
       "      <td>7:51 AM</td>\n",
       "    </tr>\n",
       "    <tr>\n",
       "      <th>11</th>\n",
       "      <td>POINT (-97.856066 30.181796)</td>\n",
       "      <td>6:53 AM</td>\n",
       "    </tr>\n",
       "    <tr>\n",
       "      <th>16</th>\n",
       "      <td>POINT (-97.689696 30.219623)</td>\n",
       "      <td>4:26 AM</td>\n",
       "    </tr>\n",
       "    <tr>\n",
       "      <th>26</th>\n",
       "      <td>POINT (-97.583783 40.868762)</td>\n",
       "      <td>11:07 PM</td>\n",
       "    </tr>\n",
       "    <tr>\n",
       "      <th>32</th>\n",
       "      <td>POINT (-97.740493 30.438023)</td>\n",
       "      <td>10:53 PM</td>\n",
       "    </tr>\n",
       "  </tbody>\n",
       "</table>\n",
       "</div>"
      ],
      "text/plain": [
       "                       location_1      time\n",
       "0                             NaN   6:00 AM\n",
       "2   POINT (-114.299949 48.192789)   2:22 AM\n",
       "7    POINT (-80.089825 26.489341)   4:50 PM\n",
       "8    POINT (-91.944226 38.848634)   2:10 AM\n",
       "9    POINT (-85.348554 40.178357)   7:51 AM\n",
       "11   POINT (-97.856066 30.181796)   6:53 AM\n",
       "16   POINT (-97.689696 30.219623)   4:26 AM\n",
       "26   POINT (-97.583783 40.868762)  11:07 PM\n",
       "32   POINT (-97.740493 30.438023)  10:53 PM"
      ]
     },
     "execution_count": 37,
     "metadata": {},
     "output_type": "execute_result"
    }
   ],
   "source": [
    "# let's observe the events happened only on streets:\n",
    "streetOnly = shootingDF[shootingDF['premise_category']=='Street']\n",
    "streetAndTime = streetOnly.loc[:,['location_1','time']]\n",
    "streetAndTime"
   ]
  },
  {
   "cell_type": "code",
   "execution_count": 36,
   "metadata": {},
   "outputs": [],
   "source": []
  },
  {
   "cell_type": "code",
   "execution_count": null,
   "metadata": {},
   "outputs": [],
   "source": []
  },
  {
   "cell_type": "markdown",
   "metadata": {},
   "source": [
    "### Modeling - Hypothesis and Analysis:"
   ]
  },
  {
   "cell_type": "markdown",
   "metadata": {},
   "source": [
    "### Extensions and Future Work:"
   ]
  },
  {
   "cell_type": "markdown",
   "metadata": {},
   "source": [
    "### Modeling - Assumptions and Limitations"
   ]
  },
  {
   "cell_type": "markdown",
   "metadata": {},
   "source": [
    "### HCs / LOs:\n",
    " * DatavizandCom (CompUrbanism) - in regards to this project, data visualization and communication has been a journey.\n",
    "* model assunmptions something about the large scale models and biased data etc..."
   ]
  },
  {
   "cell_type": "markdown",
   "metadata": {},
   "source": [
    "### References:\n",
    " * DatavizandCom (CompUrbanism) - in regards to this project, data visualization and communication has been a journey.\n",
    "* model assunmptions something about the large scale models and biased data etc..."
   ]
  }
 ],
 "metadata": {
  "kernelspec": {
   "display_name": "Python 3",
   "language": "python",
   "name": "python3"
  },
  "language_info": {
   "codemirror_mode": {
    "name": "ipython",
    "version": 3
   },
   "file_extension": ".py",
   "mimetype": "text/x-python",
   "name": "python",
   "nbconvert_exporter": "python",
   "pygments_lexer": "ipython3",
   "version": "3.6.7"
  }
 },
 "nbformat": 4,
 "nbformat_minor": 2
}
