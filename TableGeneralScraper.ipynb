import requests
import lxml.html as lh
import pandas as pd

url='https://www.btselem.org/hebrew/jerusalem/building_starts_statistics'
#Create a handle, page, to handle the contents of the website
page = requests.get(url)
#Store the contents of the website under doc
doc = lh.fromstring(page.content)
#Parse data that are stored between <tr>..</tr> of HTML
tr_elements = doc.xpath('//tr')

print(tr_elements)


# code inspired by:
# https://towardsdatascience.com/web-scraping-html-tables-with-python-c9baba21059